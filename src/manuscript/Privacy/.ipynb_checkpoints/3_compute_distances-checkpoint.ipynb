{
 "cells": [
  {
   "cell_type": "markdown",
   "metadata": {},
   "source": [
    "# Computing distances\n",
    "\n",
    "Preprocessing and computing distances for pairwise attacks. Distances are calculated both in pixel and feature space"
   ]
  },
  {
   "cell_type": "code",
   "execution_count": 3,
   "metadata": {},
   "outputs": [],
   "source": [
    "import numpy as np\n",
    "import matplotlib.pyplot as plt\n",
    "from matplotlib.lines import Line2D\n",
    "import umap\n",
    "import h5py\n",
    "from glob import glob\n",
    "from scipy.spatial.distance import cdist\n",
    "from tqdm.notebook import tqdm\n",
    "import pickle\n",
    "\n",
    "from scipy.spatial.distance import cdist\n",
    "from scipy.stats import gaussian_kde"
   ]
  },
  {
   "cell_type": "code",
   "execution_count": 4,
   "metadata": {},
   "outputs": [],
   "source": [
    "#Loading synthetic, candidate and test set\n",
    "candidate = np.load('./privacy_saves/candidate.npy')\n",
    "candidate_flat = candidate.reshape([len(candidate), 9*64*64])\n",
    "\n",
    "h5f = h5py.File('./privacy_saves/synth_set.h5', 'r')\n",
    "synth_set = h5f['images'][:]\n",
    "synth_set = np.array(synth_set.reshape([len(synth_set), 9*64*64]))\n",
    "h5f.close()\n",
    "\n",
    "# Only used in supplemental as a reference for distances\n",
    "h5f = h5py.File('./privacy_saves/test_set.h5', 'r')\n",
    "test_set = h5f['images'][:]\n",
    "test_set = np.array(test_set.reshape([len(test_set), 9*64*64]))\n",
    "h5f.close()"
   ]
  },
  {
   "cell_type": "markdown",
   "metadata": {},
   "source": [
    "#### Pixel space L2 distance between candidate and synthetic"
   ]
  },
  {
   "cell_type": "code",
   "execution_count": 5,
   "metadata": {},
   "outputs": [
    {
     "data": {
      "application/vnd.jupyter.widget-view+json": {
       "model_id": "adf936e15cc54f1da94b4ade3b7f7d4d",
       "version_major": 2,
       "version_minor": 0
      },
      "text/plain": [
       "HBox(children=(FloatProgress(value=0.0, max=20.0), HTML(value='')))"
      ]
     },
     "metadata": {},
     "output_type": "display_data"
    },
    {
     "name": "stdout",
     "output_type": "stream",
     "text": [
      "\n"
     ]
    }
   ],
   "source": [
    "L2_dist = np.zeros([len(candidate_flat), len(synth_set)])\n",
    "\n",
    "# We split the data into 20 chunks and compute distances per chunk to track progress with tqdm \n",
    "# with synth_set of len 10'000\n",
    "for split in tqdm(range(20)):\n",
    "    curr_dist = cdist(candidate_flat,\n",
    "                      synth_set[split*500:(split+1)*500])\n",
    "    L2_dist[:, split*500:(split+1)*500] = curr_dist\n",
    "    \n",
    "dist_candidate = (L2_dist.min(axis=1))/np.median(L2_dist, axis=1)"
   ]
  },
  {
   "cell_type": "markdown",
   "metadata": {},
   "source": [
    "#### Pixel space L2 distance between test (1000 samples) and synthetic, only used in supplemental as reference distance"
   ]
  },
  {
   "cell_type": "code",
   "execution_count": 6,
   "metadata": {},
   "outputs": [
    {
     "data": {
      "application/vnd.jupyter.widget-view+json": {
       "model_id": "e3828a1c863643408dc4d201998c03df",
       "version_major": 2,
       "version_minor": 0
      },
      "text/plain": [
       "HBox(children=(FloatProgress(value=0.0, max=10.0), HTML(value='')))"
      ]
     },
     "metadata": {},
     "output_type": "display_data"
    },
    {
     "name": "stdout",
     "output_type": "stream",
     "text": [
      "\n"
     ]
    }
   ],
   "source": [
    "L2_test_dist = np.zeros([1000, 10000])\n",
    "\n",
    "# We split the data into 20 chunks and compute distances per chunk to track progress with tqdm \n",
    "# with synth_set of len 10'000\n",
    "for split in tqdm(range(10)):\n",
    "    curr_dist = cdist(test_set[:1000].reshape([1000, 36864]),\n",
    "                      synth_set[split*1000:(split+1)*1000])\n",
    "    L2_test_dist[:, split*1000:(split+1)*1000] = curr_dist"
   ]
  },
  {
   "cell_type": "code",
   "execution_count": 7,
   "metadata": {},
   "outputs": [],
   "source": [
    "np.save('./privacy_saves/L2_candidate_syth.npy', L2_dist)\n",
    "np.save('./privacy_saves/L2_test_synth.npy', L2_test_dist)"
   ]
  },
  {
   "cell_type": "markdown",
   "metadata": {},
   "source": [
    "#### Feature distance"
   ]
  },
  {
   "cell_type": "code",
   "execution_count": 12,
   "metadata": {},
   "outputs": [],
   "source": [
    "# Load feature space data\n",
    "u_candidate = np.load('./privacy_saves/u_candidate.npy', allow_pickle=True)\n",
    "u_synth = np.load('./privacy_saves/u_synth.npy', allow_pickle=True)\n",
    "u_test = np.load('./privacy_saves/u_test.npy', allow_pickle=True)"
   ]
  },
  {
   "cell_type": "code",
   "execution_count": 13,
   "metadata": {},
   "outputs": [],
   "source": [
    "# Compute distances\n",
    "# Candidate-synthetic\n",
    "umap_dist_candidate_synth = cdist(u_candidate, u_synth[:])\n",
    "# Test-synthetic\n",
    "umap_dist_test_synth = cdist(u_test[:1000], u_synth[:])"
   ]
  },
  {
   "cell_type": "code",
   "execution_count": 14,
   "metadata": {},
   "outputs": [],
   "source": [
    "np.save('./privacy_saves/umap_dist_candidate_synth.npy', umap_dist_candidate_synth)\n",
    "np.save('./privacy_saves/umap_dist_test_synth.npy', umap_dist_test_synth)"
   ]
  },
  {
   "cell_type": "code",
   "execution_count": null,
   "metadata": {},
   "outputs": [],
   "source": []
  }
 ],
 "metadata": {
  "kernelspec": {
   "display_name": "pgan-env",
   "language": "python",
   "name": "pgan-env"
  },
  "language_info": {
   "codemirror_mode": {
    "name": "ipython",
    "version": 3
   },
   "file_extension": ".py",
   "mimetype": "text/x-python",
   "name": "python",
   "nbconvert_exporter": "python",
   "pygments_lexer": "ipython3",
   "version": "3.7.9"
  }
 },
 "nbformat": 4,
 "nbformat_minor": 2
}
